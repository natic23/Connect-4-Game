{
 "cells": [
  {
   "cell_type": "markdown",
   "metadata": {},
   "source": [
    "Trial: random select column (not very strategics)"
   ]
  },
  {
   "cell_type": "code",
   "execution_count": 4,
   "metadata": {},
   "outputs": [],
   "source": [
    "# Use this cell to define your strategy\n",
    "def my_strategy1(board, player_number):\n",
    "    '''Write your strategy here\n",
    "    (param) board ([[int]*6]*7): The board the move will be taken on. For each position, will be 0 for unoccupied, 1 for occupied by player 1, 2 for occupied by player 2.\n",
    "    (param) int player_number The number of your pieces in the board\n",
    "    (return) int the number of the column you want your next move to be in (0 for the leftmost column, 6 for the rightmost)'''\n",
    "    #Write your code here\n",
    "    #step1: “Find the first open column and return it” so the game system knows WHICH COLUMN to drop your piece.\n",
    "    for col in range(7):\n",
    "        if board [col][0] == 0:\n",
    "            #check bottom row to see if its empty {empty=0,player1= 1, player2 = 2}\n",
    "            return col\n",
    "    \n",
    "\n"
   ]
  },
  {
   "cell_type": "code",
   "execution_count": null,
   "metadata": {},
   "outputs": [],
   "source": [
    "'''''\n",
    "[0][5] [1][5] [2][5] [3][5] [4][5] [5][5] [6][5] \n",
    "[0][4] [1][4] [2][4] [3][4] [4][4] [5][4] [6][4] \n",
    "[0][3] [1][3] [2][3] [3][3] [4][3] [5][3] [6][3] \n",
    "[0][2] [1][2] [2][2] [3][2] [4][2] [5][2] [6][2] \n",
    "[0][1] [1][1] [2][1] [3][1] [4][1] [5][1] [6][1] \n",
    "[0][0] [1][0] [2][0] [3][0] [4][0] [5][0] [6][0] \n",
    "```\n",
    "\n",
    "[col][row] counting from below (coz every move goes to the bottom row first)\n",
    "\n",
    "For instance, if the argument holding the state of the board has the variable name ```board```, the value representing the state of the bottom-right position could be found by writing ```board[6][0]``` and the the top-middle value could be found by writing ```board[3][5]```. For each location, the value will be 0 if no player has placed a piece there, 1 if player 1 has, and 2 if player 2 has."
   ]
  },
  {
   "cell_type": "markdown",
   "metadata": {},
   "source": [
    "Maybe: always put it in either column 3 or 4 to start with"
   ]
  },
  {
   "cell_type": "code",
   "execution_count": null,
   "metadata": {},
   "outputs": [],
   "source": [
    "def my_strategy2(board, player):\n",
    "    # 1. Check if we can win\n",
    "    for col in range(7):  # Loop over all 7 columns (from 0 to 6)\n",
    "        if can_win(board, col, player):  # Check if placing a piece in the column results in a win\n",
    "            return col  # If can_win returns True, return the current column number\n",
    "\n",
    "\n",
    "    # 2. Block opponent\n",
    "    for col in range(7):\n",
    "        if can_win(board, col, 3 - player):\n",
    "            return col\n",
    "\n",
    "    # 3. Pick the best column\n",
    "    for col in [3, 2, 4, 1, 5, 0, 6]:  # Prefer center\n",
    "        if board[5][col] == 0:\n",
    "            return col\n",
    "\n",
    "def can_win(board, col, player):\n",
    "    row = -1  # -1 is default: no empty row is found\n",
    "    for r in range(6):  # Loop through each row in the column\n",
    "        if board[r][col] == 0:  # If the current row is empty\n",
    "            row = r  # Update the row where the piece can go\n",
    "            break  # No need to check further, we found the empty row\n",
    "    if row == -1:  # If no empty row was found (-1 is returned), return False\n",
    "        return False\n",
    "    return check_win(board, player)\n",
    "\n",
    "def check_win(board, player):\n",
    "    for row in range(6):\n",
    "        for col in range(7):\n",
    "            if any(check_line(board, row, col, dr, dc, player) \n",
    "                   for dr, dc in [(1,0), (0,1), (1,1), (1,-1)]):\n",
    "                return True\n",
    "    return False\n",
    "\n",
    "def check_line(board, row, col, dr, dc, player):\n",
    "    try:\n",
    "        return all(board[row + i * dr][col + i * dc] == player for i in range(4))\n",
    "    except IndexError:\n",
    "        return False\n"
   ]
  },
  {
   "cell_type": "code",
   "execution_count": 7,
   "metadata": {},
   "outputs": [
    {
     "name": "stdout",
     "output_type": "stream",
     "text": [
      "You will go first\n",
      "|               |\n",
      "|               |\n",
      "|               |\n",
      "|               |\n",
      "|               |\n",
      "|               |\n",
      "-----------------\n",
      "Player You selects column 4\n",
      "1 Your Strategy\n",
      "2 You\n",
      "|               |\n",
      "|               |\n",
      "|               |\n",
      "|               |\n",
      "|               |\n",
      "|         2     |\n",
      "-----------------\n",
      "Your Strategy returned an error when asked for a move, so You wins!\n"
     ]
    },
    {
     "data": {
      "text/plain": [
       "(2, True)"
      ]
     },
     "execution_count": 7,
     "metadata": {},
     "output_type": "execute_result"
    }
   ],
   "source": [
    "# When you want to play against your strategy, run the cell above, then this cell\n",
    "from game.run_game import run_game\n",
    "from strategies import manual\n",
    "\n",
    "run_game(\"Your Strategy\", \"You\", my_strategy2, manual.manual, move_duration=0.1)"
   ]
  },
  {
   "cell_type": "code",
   "execution_count": null,
   "metadata": {},
   "outputs": [],
   "source": [
    "# Run this cell to see your code play a single match against the opponent you will face in the assessment\n",
    "# Press enter to progress the game\n",
    "from game.run_game import run_game\n",
    "from assessment.assessor import random_opponent\n",
    "\n",
    "run_game(\"Your Strategy\", \"Opponent\", my_strategy, random_opponent, move_duration=-1)"
   ]
  },
  {
   "cell_type": "code",
   "execution_count": null,
   "metadata": {},
   "outputs": [],
   "source": [
    "# When you're ready to run your strategy run the top cell, then this cell\n",
    "# You can do this as often as you like as you improve your strategy\n",
    "from assessment.assessor import assess\n",
    "\n",
    "assess(my_strategy)"
   ]
  }
 ],
 "metadata": {
  "kernelspec": {
   "display_name": "Python 3",
   "language": "python",
   "name": "python3"
  },
  "language_info": {
   "codemirror_mode": {
    "name": "ipython",
    "version": 3
   },
   "file_extension": ".py",
   "mimetype": "text/x-python",
   "name": "python",
   "nbconvert_exporter": "python",
   "pygments_lexer": "ipython3",
   "version": "3.12.2"
  },
  "orig_nbformat": 4,
  "vscode": {
   "interpreter": {
    "hash": "5dbf766eb95023f9dddb799b5381b4ed6a9322e38632e8ac1570872c767b304b"
   }
  }
 },
 "nbformat": 4,
 "nbformat_minor": 2
}
